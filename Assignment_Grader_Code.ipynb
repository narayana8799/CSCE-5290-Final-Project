{
  "cells": [
    {
      "cell_type": "code",
      "execution_count": null,
      "id": "f3016cd2-5e59-44f9-b7f9-f56d1ce87ccb",
      "metadata": {
        "id": "f3016cd2-5e59-44f9-b7f9-f56d1ce87ccb"
      },
      "outputs": [],
      "source": [
        "import re\n",
        "import nltk\n",
        "import gensim\n",
        "import numpy as np\n",
        "import pandas as pd\n",
        "import matplotlib.pyplot as plt\n",
        "import warnings\n",
        "\n",
        "warnings.filterwarnings(\"ignore\")"
      ]
    },
    {
      "cell_type": "code",
      "execution_count": null,
      "id": "3558fa21-4acb-45ec-b9a0-810bc8fa273e",
      "metadata": {
        "colab": {
          "base_uri": "https://localhost:8080/"
        },
        "id": "3558fa21-4acb-45ec-b9a0-810bc8fa273e",
        "outputId": "61831183-9e0f-4a2a-8994-3714bb6663f1"
      },
      "outputs": [
        {
          "output_type": "stream",
          "name": "stderr",
          "text": [
            "[nltk_data] Downloading package stopwords to /root/nltk_data...\n",
            "[nltk_data]   Package stopwords is already up-to-date!\n",
            "[nltk_data] Downloading package punkt to /root/nltk_data...\n",
            "[nltk_data]   Package punkt is already up-to-date!\n"
          ]
        },
        {
          "output_type": "execute_result",
          "data": {
            "text/plain": [
              "True"
            ]
          },
          "metadata": {},
          "execution_count": 41
        }
      ],
      "source": [
        "nltk.download('stopwords')\n",
        "nltk.download('punkt')"
      ]
    },
    {
      "cell_type": "code",
      "execution_count": null,
      "id": "65846628-5484-418c-b899-f4536e396a28",
      "metadata": {
        "colab": {
          "base_uri": "https://localhost:8080/"
        },
        "id": "65846628-5484-418c-b899-f4536e396a28",
        "outputId": "70152465-0689-4e1a-942f-b13a71511634"
      },
      "outputs": [
        {
          "output_type": "stream",
          "name": "stdout",
          "text": [
            "ls: cannot access './dataset/': No such file or directory\n"
          ]
        }
      ],
      "source": [
        "!ls -alh ./dataset/"
      ]
    },
    {
      "cell_type": "markdown",
      "id": "1e1b781f-af9f-4a86-a349-3267a35f7f35",
      "metadata": {
        "id": "1e1b781f-af9f-4a86-a349-3267a35f7f35"
      },
      "source": [
        "## Preprocessing the dataset"
      ]
    },
    {
      "cell_type": "markdown",
      "id": "2827a061-cf5d-4329-8f88-e04e9b4b58b8",
      "metadata": {
        "id": "2827a061-cf5d-4329-8f88-e04e9b4b58b8"
      },
      "source": [
        "### Loading train and validation datasets"
      ]
    },
    {
      "cell_type": "code",
      "execution_count": null,
      "id": "e65348a9-65d7-4a6b-936b-f6802a0ade28",
      "metadata": {
        "colab": {
          "base_uri": "https://localhost:8080/",
          "height": 206
        },
        "id": "e65348a9-65d7-4a6b-936b-f6802a0ade28",
        "outputId": "884d16b7-6724-47cd-aff3-a6f3ced900da"
      },
      "outputs": [
        {
          "output_type": "execute_result",
          "data": {
            "text/plain": [
              "   essay_id  essay_set                                              essay  \\\n",
              "0         1          1  Dear local newspaper, I think effects computer...   \n",
              "1         2          1  Dear @CAPS1 @CAPS2, I believe that using compu...   \n",
              "2         3          1  Dear, @CAPS1 @CAPS2 @CAPS3 More and more peopl...   \n",
              "3         4          1  Dear Local Newspaper, @CAPS1 I have found that...   \n",
              "4         5          1  Dear @LOCATION1, I know having computers has a...   \n",
              "\n",
              "   rater1_domain1  rater2_domain1  domain1_score  \n",
              "0               4               4              8  \n",
              "1               5               4              9  \n",
              "2               4               3              7  \n",
              "3               5               5             10  \n",
              "4               4               4              8  "
            ],
            "text/html": [
              "\n",
              "  <div id=\"df-09a2d6b2-d254-42f4-93ba-6648e8a326aa\">\n",
              "    <div class=\"colab-df-container\">\n",
              "      <div>\n",
              "<style scoped>\n",
              "    .dataframe tbody tr th:only-of-type {\n",
              "        vertical-align: middle;\n",
              "    }\n",
              "\n",
              "    .dataframe tbody tr th {\n",
              "        vertical-align: top;\n",
              "    }\n",
              "\n",
              "    .dataframe thead th {\n",
              "        text-align: right;\n",
              "    }\n",
              "</style>\n",
              "<table border=\"1\" class=\"dataframe\">\n",
              "  <thead>\n",
              "    <tr style=\"text-align: right;\">\n",
              "      <th></th>\n",
              "      <th>essay_id</th>\n",
              "      <th>essay_set</th>\n",
              "      <th>essay</th>\n",
              "      <th>rater1_domain1</th>\n",
              "      <th>rater2_domain1</th>\n",
              "      <th>domain1_score</th>\n",
              "    </tr>\n",
              "  </thead>\n",
              "  <tbody>\n",
              "    <tr>\n",
              "      <th>0</th>\n",
              "      <td>1</td>\n",
              "      <td>1</td>\n",
              "      <td>Dear local newspaper, I think effects computer...</td>\n",
              "      <td>4</td>\n",
              "      <td>4</td>\n",
              "      <td>8</td>\n",
              "    </tr>\n",
              "    <tr>\n",
              "      <th>1</th>\n",
              "      <td>2</td>\n",
              "      <td>1</td>\n",
              "      <td>Dear @CAPS1 @CAPS2, I believe that using compu...</td>\n",
              "      <td>5</td>\n",
              "      <td>4</td>\n",
              "      <td>9</td>\n",
              "    </tr>\n",
              "    <tr>\n",
              "      <th>2</th>\n",
              "      <td>3</td>\n",
              "      <td>1</td>\n",
              "      <td>Dear, @CAPS1 @CAPS2 @CAPS3 More and more peopl...</td>\n",
              "      <td>4</td>\n",
              "      <td>3</td>\n",
              "      <td>7</td>\n",
              "    </tr>\n",
              "    <tr>\n",
              "      <th>3</th>\n",
              "      <td>4</td>\n",
              "      <td>1</td>\n",
              "      <td>Dear Local Newspaper, @CAPS1 I have found that...</td>\n",
              "      <td>5</td>\n",
              "      <td>5</td>\n",
              "      <td>10</td>\n",
              "    </tr>\n",
              "    <tr>\n",
              "      <th>4</th>\n",
              "      <td>5</td>\n",
              "      <td>1</td>\n",
              "      <td>Dear @LOCATION1, I know having computers has a...</td>\n",
              "      <td>4</td>\n",
              "      <td>4</td>\n",
              "      <td>8</td>\n",
              "    </tr>\n",
              "  </tbody>\n",
              "</table>\n",
              "</div>\n",
              "      <button class=\"colab-df-convert\" onclick=\"convertToInteractive('df-09a2d6b2-d254-42f4-93ba-6648e8a326aa')\"\n",
              "              title=\"Convert this dataframe to an interactive table.\"\n",
              "              style=\"display:none;\">\n",
              "        \n",
              "  <svg xmlns=\"http://www.w3.org/2000/svg\" height=\"24px\"viewBox=\"0 0 24 24\"\n",
              "       width=\"24px\">\n",
              "    <path d=\"M0 0h24v24H0V0z\" fill=\"none\"/>\n",
              "    <path d=\"M18.56 5.44l.94 2.06.94-2.06 2.06-.94-2.06-.94-.94-2.06-.94 2.06-2.06.94zm-11 1L8.5 8.5l.94-2.06 2.06-.94-2.06-.94L8.5 2.5l-.94 2.06-2.06.94zm10 10l.94 2.06.94-2.06 2.06-.94-2.06-.94-.94-2.06-.94 2.06-2.06.94z\"/><path d=\"M17.41 7.96l-1.37-1.37c-.4-.4-.92-.59-1.43-.59-.52 0-1.04.2-1.43.59L10.3 9.45l-7.72 7.72c-.78.78-.78 2.05 0 2.83L4 21.41c.39.39.9.59 1.41.59.51 0 1.02-.2 1.41-.59l7.78-7.78 2.81-2.81c.8-.78.8-2.07 0-2.86zM5.41 20L4 18.59l7.72-7.72 1.47 1.35L5.41 20z\"/>\n",
              "  </svg>\n",
              "      </button>\n",
              "      \n",
              "  <style>\n",
              "    .colab-df-container {\n",
              "      display:flex;\n",
              "      flex-wrap:wrap;\n",
              "      gap: 12px;\n",
              "    }\n",
              "\n",
              "    .colab-df-convert {\n",
              "      background-color: #E8F0FE;\n",
              "      border: none;\n",
              "      border-radius: 50%;\n",
              "      cursor: pointer;\n",
              "      display: none;\n",
              "      fill: #1967D2;\n",
              "      height: 32px;\n",
              "      padding: 0 0 0 0;\n",
              "      width: 32px;\n",
              "    }\n",
              "\n",
              "    .colab-df-convert:hover {\n",
              "      background-color: #E2EBFA;\n",
              "      box-shadow: 0px 1px 2px rgba(60, 64, 67, 0.3), 0px 1px 3px 1px rgba(60, 64, 67, 0.15);\n",
              "      fill: #174EA6;\n",
              "    }\n",
              "\n",
              "    [theme=dark] .colab-df-convert {\n",
              "      background-color: #3B4455;\n",
              "      fill: #D2E3FC;\n",
              "    }\n",
              "\n",
              "    [theme=dark] .colab-df-convert:hover {\n",
              "      background-color: #434B5C;\n",
              "      box-shadow: 0px 1px 3px 1px rgba(0, 0, 0, 0.15);\n",
              "      filter: drop-shadow(0px 1px 2px rgba(0, 0, 0, 0.3));\n",
              "      fill: #FFFFFF;\n",
              "    }\n",
              "  </style>\n",
              "\n",
              "      <script>\n",
              "        const buttonEl =\n",
              "          document.querySelector('#df-09a2d6b2-d254-42f4-93ba-6648e8a326aa button.colab-df-convert');\n",
              "        buttonEl.style.display =\n",
              "          google.colab.kernel.accessAllowed ? 'block' : 'none';\n",
              "\n",
              "        async function convertToInteractive(key) {\n",
              "          const element = document.querySelector('#df-09a2d6b2-d254-42f4-93ba-6648e8a326aa');\n",
              "          const dataTable =\n",
              "            await google.colab.kernel.invokeFunction('convertToInteractive',\n",
              "                                                     [key], {});\n",
              "          if (!dataTable) return;\n",
              "\n",
              "          const docLinkHtml = 'Like what you see? Visit the ' +\n",
              "            '<a target=\"_blank\" href=https://colab.research.google.com/notebooks/data_table.ipynb>data table notebook</a>'\n",
              "            + ' to learn more about interactive tables.';\n",
              "          element.innerHTML = '';\n",
              "          dataTable['output_type'] = 'display_data';\n",
              "          await google.colab.output.renderOutput(dataTable, element);\n",
              "          const docLink = document.createElement('div');\n",
              "          docLink.innerHTML = docLinkHtml;\n",
              "          element.appendChild(docLink);\n",
              "        }\n",
              "      </script>\n",
              "    </div>\n",
              "  </div>\n",
              "  "
            ]
          },
          "metadata": {},
          "execution_count": 43
        }
      ],
      "source": [
        "train_data = pd.read_csv(\n",
        "    '/content/training_set_rel3.tsv', \n",
        "    usecols=['essay_id', 'essay_set', 'essay', 'rater1_domain1', 'rater2_domain1', 'domain1_score'], \n",
        "    sep='\\t', \n",
        "    encoding='ISO-8859-1'\n",
        ")\n",
        "\n",
        "train_data.head()"
      ]
    },
    {
      "cell_type": "code",
      "execution_count": null,
      "id": "47eda2ea-000d-4ee8-9932-539c1420b232",
      "metadata": {
        "colab": {
          "base_uri": "https://localhost:8080/",
          "height": 206
        },
        "id": "47eda2ea-000d-4ee8-9932-539c1420b232",
        "outputId": "9a7e159f-6899-4777-a14a-502c919d8a87"
      },
      "outputs": [
        {
          "output_type": "execute_result",
          "data": {
            "text/plain": [
              "   essay_id                                              essay\n",
              "0      1788  Dear @ORGANIZATION1, @CAPS1 more and more peop...\n",
              "1      1789  Dear @LOCATION1 Time @CAPS1 me tell you what I...\n",
              "2      1790  Dear Local newspaper, Have you been spending a...\n",
              "3      1791  Dear Readers, @CAPS1 you imagine how life woul...\n",
              "4      1792  Dear newspaper, I strongly believe that comput..."
            ],
            "text/html": [
              "\n",
              "  <div id=\"df-a32cef50-33b0-4706-a1fe-4af0f7c0dcfd\">\n",
              "    <div class=\"colab-df-container\">\n",
              "      <div>\n",
              "<style scoped>\n",
              "    .dataframe tbody tr th:only-of-type {\n",
              "        vertical-align: middle;\n",
              "    }\n",
              "\n",
              "    .dataframe tbody tr th {\n",
              "        vertical-align: top;\n",
              "    }\n",
              "\n",
              "    .dataframe thead th {\n",
              "        text-align: right;\n",
              "    }\n",
              "</style>\n",
              "<table border=\"1\" class=\"dataframe\">\n",
              "  <thead>\n",
              "    <tr style=\"text-align: right;\">\n",
              "      <th></th>\n",
              "      <th>essay_id</th>\n",
              "      <th>essay</th>\n",
              "    </tr>\n",
              "  </thead>\n",
              "  <tbody>\n",
              "    <tr>\n",
              "      <th>0</th>\n",
              "      <td>1788</td>\n",
              "      <td>Dear @ORGANIZATION1, @CAPS1 more and more peop...</td>\n",
              "    </tr>\n",
              "    <tr>\n",
              "      <th>1</th>\n",
              "      <td>1789</td>\n",
              "      <td>Dear @LOCATION1 Time @CAPS1 me tell you what I...</td>\n",
              "    </tr>\n",
              "    <tr>\n",
              "      <th>2</th>\n",
              "      <td>1790</td>\n",
              "      <td>Dear Local newspaper, Have you been spending a...</td>\n",
              "    </tr>\n",
              "    <tr>\n",
              "      <th>3</th>\n",
              "      <td>1791</td>\n",
              "      <td>Dear Readers, @CAPS1 you imagine how life woul...</td>\n",
              "    </tr>\n",
              "    <tr>\n",
              "      <th>4</th>\n",
              "      <td>1792</td>\n",
              "      <td>Dear newspaper, I strongly believe that comput...</td>\n",
              "    </tr>\n",
              "  </tbody>\n",
              "</table>\n",
              "</div>\n",
              "      <button class=\"colab-df-convert\" onclick=\"convertToInteractive('df-a32cef50-33b0-4706-a1fe-4af0f7c0dcfd')\"\n",
              "              title=\"Convert this dataframe to an interactive table.\"\n",
              "              style=\"display:none;\">\n",
              "        \n",
              "  <svg xmlns=\"http://www.w3.org/2000/svg\" height=\"24px\"viewBox=\"0 0 24 24\"\n",
              "       width=\"24px\">\n",
              "    <path d=\"M0 0h24v24H0V0z\" fill=\"none\"/>\n",
              "    <path d=\"M18.56 5.44l.94 2.06.94-2.06 2.06-.94-2.06-.94-.94-2.06-.94 2.06-2.06.94zm-11 1L8.5 8.5l.94-2.06 2.06-.94-2.06-.94L8.5 2.5l-.94 2.06-2.06.94zm10 10l.94 2.06.94-2.06 2.06-.94-2.06-.94-.94-2.06-.94 2.06-2.06.94z\"/><path d=\"M17.41 7.96l-1.37-1.37c-.4-.4-.92-.59-1.43-.59-.52 0-1.04.2-1.43.59L10.3 9.45l-7.72 7.72c-.78.78-.78 2.05 0 2.83L4 21.41c.39.39.9.59 1.41.59.51 0 1.02-.2 1.41-.59l7.78-7.78 2.81-2.81c.8-.78.8-2.07 0-2.86zM5.41 20L4 18.59l7.72-7.72 1.47 1.35L5.41 20z\"/>\n",
              "  </svg>\n",
              "      </button>\n",
              "      \n",
              "  <style>\n",
              "    .colab-df-container {\n",
              "      display:flex;\n",
              "      flex-wrap:wrap;\n",
              "      gap: 12px;\n",
              "    }\n",
              "\n",
              "    .colab-df-convert {\n",
              "      background-color: #E8F0FE;\n",
              "      border: none;\n",
              "      border-radius: 50%;\n",
              "      cursor: pointer;\n",
              "      display: none;\n",
              "      fill: #1967D2;\n",
              "      height: 32px;\n",
              "      padding: 0 0 0 0;\n",
              "      width: 32px;\n",
              "    }\n",
              "\n",
              "    .colab-df-convert:hover {\n",
              "      background-color: #E2EBFA;\n",
              "      box-shadow: 0px 1px 2px rgba(60, 64, 67, 0.3), 0px 1px 3px 1px rgba(60, 64, 67, 0.15);\n",
              "      fill: #174EA6;\n",
              "    }\n",
              "\n",
              "    [theme=dark] .colab-df-convert {\n",
              "      background-color: #3B4455;\n",
              "      fill: #D2E3FC;\n",
              "    }\n",
              "\n",
              "    [theme=dark] .colab-df-convert:hover {\n",
              "      background-color: #434B5C;\n",
              "      box-shadow: 0px 1px 3px 1px rgba(0, 0, 0, 0.15);\n",
              "      filter: drop-shadow(0px 1px 2px rgba(0, 0, 0, 0.3));\n",
              "      fill: #FFFFFF;\n",
              "    }\n",
              "  </style>\n",
              "\n",
              "      <script>\n",
              "        const buttonEl =\n",
              "          document.querySelector('#df-a32cef50-33b0-4706-a1fe-4af0f7c0dcfd button.colab-df-convert');\n",
              "        buttonEl.style.display =\n",
              "          google.colab.kernel.accessAllowed ? 'block' : 'none';\n",
              "\n",
              "        async function convertToInteractive(key) {\n",
              "          const element = document.querySelector('#df-a32cef50-33b0-4706-a1fe-4af0f7c0dcfd');\n",
              "          const dataTable =\n",
              "            await google.colab.kernel.invokeFunction('convertToInteractive',\n",
              "                                                     [key], {});\n",
              "          if (!dataTable) return;\n",
              "\n",
              "          const docLinkHtml = 'Like what you see? Visit the ' +\n",
              "            '<a target=\"_blank\" href=https://colab.research.google.com/notebooks/data_table.ipynb>data table notebook</a>'\n",
              "            + ' to learn more about interactive tables.';\n",
              "          element.innerHTML = '';\n",
              "          dataTable['output_type'] = 'display_data';\n",
              "          await google.colab.output.renderOutput(dataTable, element);\n",
              "          const docLink = document.createElement('div');\n",
              "          docLink.innerHTML = docLinkHtml;\n",
              "          element.appendChild(docLink);\n",
              "        }\n",
              "      </script>\n",
              "    </div>\n",
              "  </div>\n",
              "  "
            ]
          },
          "metadata": {},
          "execution_count": 44
        }
      ],
      "source": [
        "val_data = pd.read_csv(\n",
        "    '/content/valid_set.tsv', \n",
        "    usecols = ['essay_id', 'essay'],\n",
        "    sep='\\t', \n",
        "    encoding='ISO-8859-1'\n",
        ")\n",
        "\n",
        "val_data.head()"
      ]
    },
    {
      "cell_type": "markdown",
      "id": "adc298ec-46ec-4377-b2bb-3ae69e1b43c6",
      "metadata": {
        "id": "adc298ec-46ec-4377-b2bb-3ae69e1b43c6"
      },
      "source": [
        "### Checking weather train and validation set have any NaN "
      ]
    },
    {
      "cell_type": "code",
      "execution_count": null,
      "id": "86519fe4-31f5-4a9e-ab18-93fe4e7c02ba",
      "metadata": {
        "colab": {
          "base_uri": "https://localhost:8080/"
        },
        "id": "86519fe4-31f5-4a9e-ab18-93fe4e7c02ba",
        "outputId": "62fa69b6-98a1-4c77-d336-d5a21186bbf6"
      },
      "outputs": [
        {
          "output_type": "execute_result",
          "data": {
            "text/plain": [
              "essay_id          0\n",
              "essay_set         0\n",
              "essay             0\n",
              "rater1_domain1    0\n",
              "rater2_domain1    0\n",
              "domain1_score     0\n",
              "dtype: int64"
            ]
          },
          "metadata": {},
          "execution_count": 45
        }
      ],
      "source": [
        "train_data.isna().sum()"
      ]
    },
    {
      "cell_type": "code",
      "execution_count": null,
      "id": "7b38aa0e-96a5-4b64-9783-3751e784f373",
      "metadata": {
        "colab": {
          "base_uri": "https://localhost:8080/"
        },
        "id": "7b38aa0e-96a5-4b64-9783-3751e784f373",
        "outputId": "37803ae1-719b-48ff-cd2f-92210f0e241c"
      },
      "outputs": [
        {
          "output_type": "execute_result",
          "data": {
            "text/plain": [
              "essay_id    0\n",
              "essay       0\n",
              "dtype: int64"
            ]
          },
          "metadata": {},
          "execution_count": 46
        }
      ],
      "source": [
        "val_data.isna().sum()"
      ]
    },
    {
      "cell_type": "markdown",
      "id": "e4c08b2f-8dc3-48ef-a9d3-8bd520893b1f",
      "metadata": {
        "id": "e4c08b2f-8dc3-48ef-a9d3-8bd520893b1f"
      },
      "source": [
        "# Data Pre-Processing"
      ]
    },
    {
      "cell_type": "code",
      "execution_count": null,
      "id": "6b2c6f36-e378-4665-9cad-ec559dbfe11f",
      "metadata": {
        "id": "6b2c6f36-e378-4665-9cad-ec559dbfe11f"
      },
      "outputs": [],
      "source": [
        "from nltk.corpus import stopwords\n",
        "def process_stopwords(sentence):\n",
        "    s_words = stopwords.words('english')\n",
        "    sentence = re.sub(\"[^A-Za-z]\", \" \", sentence)\n",
        "    sentence = sentence.lower()\n",
        "    sentence = sentence.split()\n",
        "    \n",
        "    processed_words = [\n",
        "        word\n",
        "        for word in sentence\n",
        "        if word not in s_words\n",
        "    ]\n",
        "    \n",
        "    return ' '.join(processed_words)\n",
        "\n",
        "def process_sentences(essay):\n",
        "    sentence_tokenizer = nltk.data.load('tokenizers/punkt/english.pickle')\n",
        "    unprocessed_sentences = sentence_tokenizer.tokenize(essay.strip())\n",
        "    processed_sentences = []\n",
        "    \n",
        "    for sentence in unprocessed_sentences:\n",
        "        if len(sentence) > 0:\n",
        "            processed_sentences += [process_stopwords(sentence).split()]\n",
        "            \n",
        "    return processed_sentences\n",
        "\n",
        "def preprocess_data(raw_corpus):\n",
        "    processed_corpus = []\n",
        "    for essay in raw_corpus:\n",
        "        processed_sentences = process_stopwords(essay)\n",
        "        processed_words = process_sentences(processed_sentences)\n",
        "        processed_corpus += processed_words\n",
        "        \n",
        "    return processed_corpus"
      ]
    },
    {
      "cell_type": "markdown",
      "id": "578d61ef-a309-4cbd-a8cd-20cd1399d947",
      "metadata": {
        "id": "578d61ef-a309-4cbd-a8cd-20cd1399d947"
      },
      "source": [
        "# Wrord2Vector training and transformation"
      ]
    },
    {
      "cell_type": "markdown",
      "id": "e1444693-87a7-4b99-8b59-9c8f53c21b26",
      "metadata": {
        "id": "e1444693-87a7-4b99-8b59-9c8f53c21b26"
      },
      "source": [
        "### Training Word2Vector using Gensim"
      ]
    },
    {
      "cell_type": "code",
      "execution_count": null,
      "id": "c2f485f9-75cc-4fd5-a74e-cd36acf8b818",
      "metadata": {
        "id": "c2f485f9-75cc-4fd5-a74e-cd36acf8b818"
      },
      "outputs": [],
      "source": [
        "from gensim.models import Word2Vec\n",
        "\n",
        "processed_corpus = preprocess_data(train_data['essay'].tolist())\n",
        "processed_corpus_val = preprocess_data(val_data['essay'].tolist())\n",
        "W2V_model = Word2Vec(sentences=processed_corpus, workers=4, vector_size=300, min_count=1, window=10)"
      ]
    },
    {
      "cell_type": "markdown",
      "id": "266271c2-7bd0-4160-8496-4f9d6a8099f2",
      "metadata": {
        "id": "266271c2-7bd0-4160-8496-4f9d6a8099f2"
      },
      "source": [
        "### Generating word vectors using trained gensim model"
      ]
    },
    {
      "cell_type": "code",
      "execution_count": null,
      "id": "9bcc7253-bc96-495c-a0af-222fe8e5c269",
      "metadata": {
        "id": "9bcc7253-bc96-495c-a0af-222fe8e5c269"
      },
      "outputs": [],
      "source": [
        "def generate_feature_vector(essay, vector_size=300):\n",
        "    feature_vector = np.zeros((vector_size,), dtype=np.float32)\n",
        "    word_counter = 0\n",
        "    \n",
        "    for word in essay:\n",
        "        if word in W2V_model.wv.index_to_key:\n",
        "            word_counter += 1\n",
        "            feature_vector += W2V_model.wv.get_vector(word)\n",
        "            \n",
        "    feature_vector = np.array(feature_vector)\n",
        "    feature_vector /= word_counter\n",
        "    return feature_vector\n",
        "\n",
        "def convert_corpus(corpus):\n",
        "    vector_samples = []\n",
        "    for essay in corpus:\n",
        "        feature_vector = generate_feature_vector(essay)\n",
        "        vector_samples.append(feature_vector)\n",
        "    \n",
        "    vector_samples = np.array(vector_samples)\n",
        "        \n",
        "    return vector_samples"
      ]
    },
    {
      "cell_type": "markdown",
      "id": "b58cacc8-ba87-4e5f-8699-18c5607dc245",
      "metadata": {
        "id": "b58cacc8-ba87-4e5f-8699-18c5607dc245"
      },
      "source": [
        "### Creating Train and Test samples"
      ]
    },
    {
      "cell_type": "code",
      "execution_count": null,
      "id": "001dd599-1041-41c2-a638-db187ea00aae",
      "metadata": {
        "colab": {
          "base_uri": "https://localhost:8080/"
        },
        "id": "001dd599-1041-41c2-a638-db187ea00aae",
        "outputId": "9e12d21f-70bf-468d-edfc-116c0ee8cdf9"
      },
      "outputs": [
        {
          "output_type": "execute_result",
          "data": {
            "text/plain": [
              "(12976, 1, 300)"
            ]
          },
          "metadata": {},
          "execution_count": 50
        }
      ],
      "source": [
        "train_samples = convert_corpus(processed_corpus)\n",
        "train_samples = train_samples[:, None, :]\n",
        "train_samples.shape"
      ]
    },
    {
      "cell_type": "code",
      "execution_count": null,
      "id": "d0bee533-6b02-49f4-bbe0-55d91506f7cf",
      "metadata": {
        "colab": {
          "base_uri": "https://localhost:8080/"
        },
        "id": "d0bee533-6b02-49f4-bbe0-55d91506f7cf",
        "outputId": "5a4e9f99-9d5c-4615-ca53-c4dd66fa6124"
      },
      "outputs": [
        {
          "output_type": "execute_result",
          "data": {
            "text/plain": [
              "(4218, 1, 300)"
            ]
          },
          "metadata": {},
          "execution_count": 51
        }
      ],
      "source": [
        "val_samples = convert_corpus(processed_corpus_val)\n",
        "val_samples = val_samples[:, None, :]\n",
        "val_samples.shape"
      ]
    },
    {
      "cell_type": "markdown",
      "id": "299290ff-ff2c-497a-9fa9-6590972ae4fd",
      "metadata": {
        "id": "299290ff-ff2c-497a-9fa9-6590972ae4fd"
      },
      "source": [
        "# Training and Evaluation"
      ]
    },
    {
      "cell_type": "markdown",
      "id": "174725d3-cec5-474c-ab1a-2acdf241f2b1",
      "metadata": {
        "id": "174725d3-cec5-474c-ab1a-2acdf241f2b1"
      },
      "source": [
        "### Using GPU for Training and Evaluating the model"
      ]
    },
    {
      "cell_type": "code",
      "execution_count": null,
      "id": "61250f75-953f-49e8-8ab0-910b40523880",
      "metadata": {
        "colab": {
          "base_uri": "https://localhost:8080/"
        },
        "id": "61250f75-953f-49e8-8ab0-910b40523880",
        "outputId": "d6d95aff-a4e9-4ce3-8f06-5ca487bb23b2"
      },
      "outputs": [
        {
          "output_type": "stream",
          "name": "stdout",
          "text": [
            "Mon Apr 17 03:32:41 2023       \n",
            "+-----------------------------------------------------------------------------+\n",
            "| NVIDIA-SMI 525.85.12    Driver Version: 525.85.12    CUDA Version: 12.0     |\n",
            "|-------------------------------+----------------------+----------------------+\n",
            "| GPU  Name        Persistence-M| Bus-Id        Disp.A | Volatile Uncorr. ECC |\n",
            "| Fan  Temp  Perf  Pwr:Usage/Cap|         Memory-Usage | GPU-Util  Compute M. |\n",
            "|                               |                      |               MIG M. |\n",
            "|===============================+======================+======================|\n",
            "|   0  Tesla T4            Off  | 00000000:00:04.0 Off |                    0 |\n",
            "| N/A   58C    P0    30W /  70W |    679MiB / 15360MiB |      0%      Default |\n",
            "|                               |                      |                  N/A |\n",
            "+-------------------------------+----------------------+----------------------+\n",
            "                                                                               \n",
            "+-----------------------------------------------------------------------------+\n",
            "| Processes:                                                                  |\n",
            "|  GPU   GI   CI        PID   Type   Process name                  GPU Memory |\n",
            "|        ID   ID                                                   Usage      |\n",
            "|=============================================================================|\n",
            "+-----------------------------------------------------------------------------+\n"
          ]
        }
      ],
      "source": [
        "!nvidia-smi"
      ]
    },
    {
      "cell_type": "code",
      "execution_count": null,
      "id": "8c88aa8f-a846-4166-8451-9328cb938827",
      "metadata": {
        "colab": {
          "base_uri": "https://localhost:8080/"
        },
        "id": "8c88aa8f-a846-4166-8451-9328cb938827",
        "outputId": "07ef0008-4961-4576-f43c-8ec51ebfac46"
      },
      "outputs": [
        {
          "output_type": "stream",
          "name": "stdout",
          "text": [
            "Default GPU Device: /device:GPU:0\n"
          ]
        }
      ],
      "source": [
        "import tensorflow as tf\n",
        "from tensorflow import keras\n",
        "from tensorflow.keras.layers import LSTM, Dense, Embedding, Flatten, Lambda, Dropout\n",
        "from tensorflow.keras.models import model_from_config, load_model, Sequential\n",
        "if tf.test.gpu_device_name():\n",
        "    print('Default GPU Device: {}'.format(tf.test.gpu_device_name()))\n",
        "else:\n",
        "    print(\"Please install GPU version of TF\")"
      ]
    },
    {
      "cell_type": "markdown",
      "id": "dc317426-c42e-4863-bc7f-9b0c3f1a038c",
      "metadata": {
        "id": "dc317426-c42e-4863-bc7f-9b0c3f1a038c"
      },
      "source": [
        "### Creating the model"
      ]
    },
    {
      "cell_type": "code",
      "execution_count": null,
      "id": "398a8366-5b85-410c-92ad-ef9b49f0313b",
      "metadata": {
        "id": "398a8366-5b85-410c-92ad-ef9b49f0313b"
      },
      "outputs": [],
      "source": [
        "def generate_model():\n",
        "    grader = Sequential()\n",
        "    grader.add(LSTM(300, dropout=0.4, recurrent_dropout=0.4, input_shape=[1, 300], return_sequences=True))\n",
        "    grader.add(LSTM(64, recurrent_dropout=0.4))\n",
        "    grader.add(Dropout(.5))\n",
        "    grader.add(Dense(1, activation='relu'))\n",
        "    \n",
        "    grader.compile(loss='mean_squared_error', optimizer='rmsprop', metrics=['mae'])\n",
        "    grader.summary()\n",
        "    \n",
        "    return grader"
      ]
    },
    {
      "cell_type": "markdown",
      "id": "82a822e5-0ecc-4435-b442-faea84d2aca3",
      "metadata": {
        "id": "82a822e5-0ecc-4435-b442-faea84d2aca3"
      },
      "source": [
        "### Training annd Cross-validating the model"
      ]
    },
    {
      "cell_type": "code",
      "execution_count": null,
      "id": "18c8e89b-7aeb-4a86-99f8-8bd235241d83",
      "metadata": {
        "id": "18c8e89b-7aeb-4a86-99f8-8bd235241d83"
      },
      "outputs": [],
      "source": [
        "from sklearn.model_selection import train_test_split\n",
        "from sklearn.metrics import cohen_kappa_score"
      ]
    },
    {
      "cell_type": "code",
      "execution_count": null,
      "id": "093905ec-aae0-48ce-9081-44bbd9354bec",
      "metadata": {
        "id": "093905ec-aae0-48ce-9081-44bbd9354bec"
      },
      "outputs": [],
      "source": [
        "targets = train_data['domain1_score'].values\n",
        "X_train, X_test, Y_train, Y_test = train_test_split(train_samples, targets, test_size=.3, shuffle=True)"
      ]
    },
    {
      "cell_type": "code",
      "execution_count": null,
      "id": "b0d9ab47-69b3-46a5-825e-04e1c5844b84",
      "metadata": {
        "colab": {
          "base_uri": "https://localhost:8080/"
        },
        "id": "b0d9ab47-69b3-46a5-825e-04e1c5844b84",
        "outputId": "98f21818-9628-4497-ff93-ac1d9b72c6c7"
      },
      "outputs": [
        {
          "output_type": "stream",
          "name": "stderr",
          "text": [
            "WARNING:tensorflow:Layer lstm_2 will not use cuDNN kernels since it doesn't meet the criteria. It will use a generic GPU kernel as fallback when running on GPU.\n",
            "WARNING:tensorflow:Layer lstm_3 will not use cuDNN kernels since it doesn't meet the criteria. It will use a generic GPU kernel as fallback when running on GPU.\n"
          ]
        },
        {
          "output_type": "stream",
          "name": "stdout",
          "text": [
            "Model: \"sequential_1\"\n",
            "_________________________________________________________________\n",
            " Layer (type)                Output Shape              Param #   \n",
            "=================================================================\n",
            " lstm_2 (LSTM)               (None, 1, 300)            721200    \n",
            "                                                                 \n",
            " lstm_3 (LSTM)               (None, 64)                93440     \n",
            "                                                                 \n",
            " dropout_1 (Dropout)         (None, 64)                0         \n",
            "                                                                 \n",
            " dense_1 (Dense)             (None, 1)                 65        \n",
            "                                                                 \n",
            "=================================================================\n",
            "Total params: 814,705\n",
            "Trainable params: 814,705\n",
            "Non-trainable params: 0\n",
            "_________________________________________________________________\n",
            "Epoch 1/50\n",
            "142/142 [==============================] - 7s 15ms/step - loss: 60.2811 - mae: 4.0331\n",
            "Epoch 2/50\n",
            "142/142 [==============================] - 2s 15ms/step - loss: 35.1453 - mae: 2.8076\n",
            "Epoch 3/50\n",
            "142/142 [==============================] - 2s 14ms/step - loss: 25.2314 - mae: 2.4600\n",
            "Epoch 4/50\n",
            "142/142 [==============================] - 3s 24ms/step - loss: 19.0774 - mae: 2.2248\n",
            "Epoch 5/50\n",
            "142/142 [==============================] - 2s 15ms/step - loss: 14.9659 - mae: 2.0257\n",
            "Epoch 6/50\n",
            "142/142 [==============================] - 2s 14ms/step - loss: 13.4904 - mae: 1.9417\n",
            "Epoch 7/50\n",
            "142/142 [==============================] - 2s 15ms/step - loss: 11.7648 - mae: 1.8255\n",
            "Epoch 8/50\n",
            "142/142 [==============================] - 2s 15ms/step - loss: 11.1723 - mae: 1.8091\n",
            "Epoch 9/50\n",
            "142/142 [==============================] - 3s 23ms/step - loss: 10.7342 - mae: 1.7788\n",
            "Epoch 10/50\n",
            "142/142 [==============================] - 2s 16ms/step - loss: 10.3446 - mae: 1.7170\n",
            "Epoch 11/50\n",
            "142/142 [==============================] - 2s 15ms/step - loss: 9.4222 - mae: 1.6741\n",
            "Epoch 12/50\n",
            "142/142 [==============================] - 2s 15ms/step - loss: 9.5011 - mae: 1.6590\n",
            "Epoch 13/50\n",
            "142/142 [==============================] - 2s 15ms/step - loss: 9.6447 - mae: 1.6480\n",
            "Epoch 14/50\n",
            "142/142 [==============================] - 2s 17ms/step - loss: 9.1797 - mae: 1.6223\n",
            "Epoch 15/50\n",
            "142/142 [==============================] - 3s 22ms/step - loss: 9.0607 - mae: 1.6106\n",
            "Epoch 16/50\n",
            "142/142 [==============================] - 2s 15ms/step - loss: 8.9231 - mae: 1.5962\n",
            "Epoch 17/50\n",
            "142/142 [==============================] - 2s 15ms/step - loss: 8.7008 - mae: 1.5657\n",
            "Epoch 18/50\n",
            "142/142 [==============================] - 2s 15ms/step - loss: 8.4362 - mae: 1.5671\n",
            "Epoch 19/50\n",
            "142/142 [==============================] - 2s 15ms/step - loss: 8.6205 - mae: 1.5700\n",
            "Epoch 20/50\n",
            "142/142 [==============================] - 4s 25ms/step - loss: 8.1505 - mae: 1.5430\n",
            "Epoch 21/50\n",
            "142/142 [==============================] - 2s 15ms/step - loss: 7.9744 - mae: 1.5138\n",
            "Epoch 22/50\n",
            "142/142 [==============================] - 2s 15ms/step - loss: 7.7518 - mae: 1.5051\n",
            "Epoch 23/50\n",
            "142/142 [==============================] - 2s 15ms/step - loss: 8.0301 - mae: 1.5147\n",
            "Epoch 24/50\n",
            "142/142 [==============================] - 2s 15ms/step - loss: 8.0789 - mae: 1.5116\n",
            "Epoch 25/50\n",
            "142/142 [==============================] - 3s 24ms/step - loss: 7.8202 - mae: 1.5033\n",
            "Epoch 26/50\n",
            "142/142 [==============================] - 2s 15ms/step - loss: 8.0401 - mae: 1.5055\n",
            "Epoch 27/50\n",
            "142/142 [==============================] - 2s 15ms/step - loss: 7.4815 - mae: 1.4701\n",
            "Epoch 28/50\n",
            "142/142 [==============================] - 2s 14ms/step - loss: 7.9534 - mae: 1.4999\n",
            "Epoch 29/50\n",
            "142/142 [==============================] - 2s 14ms/step - loss: 7.7341 - mae: 1.4713\n",
            "Epoch 30/50\n",
            "142/142 [==============================] - 2s 17ms/step - loss: 7.8579 - mae: 1.4785\n",
            "Epoch 31/50\n",
            "142/142 [==============================] - 3s 22ms/step - loss: 7.5485 - mae: 1.4624\n",
            "Epoch 32/50\n",
            "142/142 [==============================] - 2s 15ms/step - loss: 7.4316 - mae: 1.4498\n",
            "Epoch 33/50\n",
            "142/142 [==============================] - 2s 15ms/step - loss: 7.2777 - mae: 1.4345\n",
            "Epoch 34/50\n",
            "142/142 [==============================] - 2s 14ms/step - loss: 7.4459 - mae: 1.4421\n",
            "Epoch 35/50\n",
            "142/142 [==============================] - 2s 14ms/step - loss: 7.2922 - mae: 1.4301\n",
            "Epoch 36/50\n",
            "142/142 [==============================] - 3s 24ms/step - loss: 7.2295 - mae: 1.4392\n",
            "Epoch 37/50\n",
            "142/142 [==============================] - 2s 15ms/step - loss: 6.9098 - mae: 1.4077\n",
            "Epoch 38/50\n",
            "142/142 [==============================] - 2s 15ms/step - loss: 7.0967 - mae: 1.4264\n",
            "Epoch 39/50\n",
            "142/142 [==============================] - 2s 15ms/step - loss: 7.2826 - mae: 1.4419\n",
            "Epoch 40/50\n",
            "142/142 [==============================] - 2s 14ms/step - loss: 6.8570 - mae: 1.4061\n",
            "Epoch 41/50\n",
            "142/142 [==============================] - 3s 21ms/step - loss: 7.0805 - mae: 1.4158\n",
            "Epoch 42/50\n",
            "142/142 [==============================] - 2s 17ms/step - loss: 6.7715 - mae: 1.3973\n",
            "Epoch 43/50\n",
            "142/142 [==============================] - 3s 21ms/step - loss: 6.8907 - mae: 1.4004\n",
            "Epoch 44/50\n",
            "142/142 [==============================] - 2s 15ms/step - loss: 6.7052 - mae: 1.3997\n",
            "Epoch 45/50\n",
            "142/142 [==============================] - 2s 14ms/step - loss: 7.0853 - mae: 1.4093\n",
            "Epoch 46/50\n",
            "142/142 [==============================] - 3s 21ms/step - loss: 7.0522 - mae: 1.4010\n",
            "Epoch 47/50\n",
            "142/142 [==============================] - 3s 18ms/step - loss: 6.8125 - mae: 1.3963\n",
            "Epoch 48/50\n",
            "142/142 [==============================] - 2s 14ms/step - loss: 6.9908 - mae: 1.3934\n",
            "Epoch 49/50\n",
            "142/142 [==============================] - 2s 14ms/step - loss: 6.9905 - mae: 1.3960\n",
            "Epoch 50/50\n",
            "142/142 [==============================] - 2s 15ms/step - loss: 6.6435 - mae: 1.3756\n"
          ]
        },
        {
          "output_type": "execute_result",
          "data": {
            "text/plain": [
              "<keras.callbacks.History at 0x7f92fae43220>"
            ]
          },
          "metadata": {},
          "execution_count": 57
        }
      ],
      "source": [
        "grader = generate_model()\n",
        "grader.fit(X_train, Y_train, batch_size=64, epochs=50)"
      ]
    },
    {
      "cell_type": "code",
      "execution_count": null,
      "id": "ff777ac7-235a-47d8-8b66-6e44518915d6",
      "metadata": {
        "colab": {
          "base_uri": "https://localhost:8080/"
        },
        "id": "ff777ac7-235a-47d8-8b66-6e44518915d6",
        "outputId": "b21235a1-1f0e-4d4d-8091-852115e87df1"
      },
      "outputs": [
        {
          "output_type": "stream",
          "name": "stdout",
          "text": [
            "284/284 [==============================] - 1s 5ms/step\n",
            "122/122 [==============================] - 1s 5ms/step\n",
            "------------------------ Train Score ------------------------\n",
            "Cohen Kappa Score :  0.9735765566486034\n",
            "------------------------ Valid Score ------------------------\n",
            "Cohen Kappa Score :  0.960872992952125\n"
          ]
        }
      ],
      "source": [
        "train_preds = grader.predict(X_train)\n",
        "train_score = cohen_kappa_score(Y_train, np.around(train_preds), weights='quadratic')\n",
        "\n",
        "test_preds = grader.predict(X_test)\n",
        "test_score = cohen_kappa_score(Y_test, np.around(test_preds), weights='quadratic')\n",
        "\n",
        "print(\"------------------------ Train Score ------------------------\")\n",
        "print('Cohen Kappa Score : ', train_score)\n",
        "\n",
        "print(\"------------------------ Valid Score ------------------------\")\n",
        "print('Cohen Kappa Score : ', test_score)"
      ]
    },
    {
      "cell_type": "code",
      "source": [
        "def grade_assignment(assignment):\n",
        "  processed_assignment = preprocess_data([assignment])\n",
        "  processed_assignment = convert_corpus(processed_assignment)\n",
        "  processed_assignment = processed_assignment[:, None, :]\n",
        "  score = grader.predict(processed_assignment)  \n",
        "  score = np.around(score)\n",
        "  return score.item()"
      ],
      "metadata": {
        "id": "wIZ5vKBrq3fC"
      },
      "id": "wIZ5vKBrq3fC",
      "execution_count": null,
      "outputs": []
    },
    {
      "cell_type": "code",
      "source": [
        "assignment = \"Dear @CAPS1 @CAPS2, I believe that using computers will benefit us in many ways like talking and becoming friends will others through websites like facebook and mysace. Using computers can help us find coordibates, locations, and able ourselfs to millions of information. Also computers will benefit us by helping with jobs as in planning a house plan and typing a @NUM1 page report for one of our jobs in less than writing it. Now lets go into the wonder world of technology. Using a computer will help us in life by talking or making friends on line. Many people have myspace, facebooks, aim, these all benefit us by having conversations with one another. Many people believe computers are bad but how can you make friends if you can never talk to them? I am very fortunate for having a computer that can help with not only school work but my social life and how I make friends. Computers help us with finding our locations, coordibates and millions of information online. If we didn't go on the internet a lot we wouldn't know how to go onto websites that @MONTH1 help us with locations and coordinates like @LOCATION1. Would you rather use a computer or be in @LOCATION3. When your supposed to be vacationing in @LOCATION2. Million of information is found on the internet. You can as almost every question and a computer will have it. Would you rather easily draw up a house plan on the computers or take @NUM1 hours doing one by hand with ugly erazer marks all over it, you are garrenteed that to find a job with a drawing like that. Also when appling for a job many workers must write very long papers like a @NUM3 word essay on why this job fits you the most, and many people I know don't like writing @NUM3 words non-stopp for hours when it could take them I hav an a computer. That is why computers we needed a lot now adays. I hope this essay has impacted your descion on computers because they are great machines to work with. The other day I showed my mom how to use a computer and she said it was the greatest invention sense sliced bread! Now go out and buy a computer to help you chat online with friends, find locations and millions of information on one click of the button and help your self with getting a job with neat, prepared, printed work that your boss will love.\"\n",
        "score = grade_assignment(assignment)\n",
        "print(\"The score for the assignment is : \", score)"
      ],
      "metadata": {
        "id": "vBEv1Xx7Lh8V",
        "colab": {
          "base_uri": "https://localhost:8080/"
        },
        "outputId": "84c0d7b1-f465-4994-d6d8-10d7032e947a"
      },
      "id": "vBEv1Xx7Lh8V",
      "execution_count": null,
      "outputs": [
        {
          "output_type": "stream",
          "name": "stdout",
          "text": [
            "1/1 [==============================] - 0s 22ms/step\n",
            "The score for the assignment is :  9.0\n"
          ]
        }
      ]
    },
    {
      "cell_type": "code",
      "source": [],
      "metadata": {
        "id": "FCnWjOmuOSmf"
      },
      "id": "FCnWjOmuOSmf",
      "execution_count": null,
      "outputs": []
    }
  ],
  "metadata": {
    "kernelspec": {
      "display_name": "Python 3 (ipykernel)",
      "language": "python",
      "name": "python3"
    },
    "language_info": {
      "codemirror_mode": {
        "name": "ipython",
        "version": 3
      },
      "file_extension": ".py",
      "mimetype": "text/x-python",
      "name": "python",
      "nbconvert_exporter": "python",
      "pygments_lexer": "ipython3",
      "version": "3.8.16"
    },
    "colab": {
      "provenance": []
    },
    "accelerator": "GPU",
    "gpuClass": "standard"
  },
  "nbformat": 4,
  "nbformat_minor": 5
}